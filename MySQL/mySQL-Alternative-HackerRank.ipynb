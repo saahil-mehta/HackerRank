{
 "cells": [
  {
   "cell_type": "code",
   "execution_count": null,
   "id": "2a02758f",
   "metadata": {},
   "outputs": [],
   "source": [
    "# Draw the triangle 2\n",
    "\n",
    "# Wrong query prints it in seperate output lines\n",
    "# SELECT \"*\" FROM DUAL\n",
    "# UNION ALL SELECT \"**\" FROM DUAL\n",
    "# UNION ALL SELECT \"***\" FROM DUAL\n",
    "# UNION ALL SELECT \"****\" FROM DUAL;\n",
    "\n",
    "# SELECT rpad(\"*\",level*2,\"*\") FROM DUAL connect by level<=3;\n",
    "\n",
    "set @number = 0;\n",
    "select repeat('* ', @number := @number + 1) from information_schema.tables limit 20;"
   ]
  },
  {
   "cell_type": "code",
   "execution_count": null,
   "id": "1d443539",
   "metadata": {},
   "outputs": [],
   "source": [
    "# Aggregations - Count Function\n",
    "# Query a count of the number of cities in CITY having a Population larger than 100,000 .\n",
    "\n",
    "SELECT COUNT(*) FROM CITY WHERE POPULATION>100000;"
   ]
  },
  {
   "cell_type": "code",
   "execution_count": null,
   "id": "df743e6f",
   "metadata": {},
   "outputs": [],
   "source": [
    "# Aggregations - Sum Function\n",
    "# Query the total population of all cities in CITY where District is California.\n",
    "\n",
    "SELECT SUM(POPULATION) FROM CITY WHERE DISTRICT=\"California\";"
   ]
  },
  {
   "cell_type": "code",
   "execution_count": null,
   "id": "a26ea460",
   "metadata": {},
   "outputs": [],
   "source": [
    "# Aggregations - Averages Function\n",
    "# Query the average population of all cities in CITY where District is California.\n",
    "\n",
    "SELECT AVG(POPULATION) FROM CITY WHERE DISTRICT=\"California\";"
   ]
  },
  {
   "cell_type": "code",
   "execution_count": null,
   "id": "ee809622",
   "metadata": {},
   "outputs": [],
   "source": [
    "# Average Population\n",
    "# Query the average population for all cities in CITY, rounded down to the nearest integer.\n",
    "\n",
    "SELECT FLOOR(AVG(POPULATION)) FROM CITY;"
   ]
  },
  {
   "cell_type": "code",
   "execution_count": null,
   "id": "4a341a2c",
   "metadata": {},
   "outputs": [],
   "source": [
    "# Write a query identifying the type of each record in the TRIANGLES table using its three side lengths. \n",
    "# Output one of the following statements for each record in the table:\n",
    "# Equilateral: It's a triangle with 3 sides of equal length.\n",
    "# Isosceles: It's a triangle with 2 sides of equal length.\n",
    "# Scalene: It's a triangle with 3 sides of differing lengths.\n",
    "# Not A Triangle: The given values of A, B, and C don't form a triangle.\n",
    "\n",
    "SELECT CASE \n",
    "WHEN A+B<=C OR B+C<=A OR A+C<=B THEN \"Not A Triangle\"\n",
    "WHEN A=B AND B=C AND A=C THEN \"Equilateral\"\n",
    "WHEN A=B OR B=A OR A=C THEN \"Isosceles\"\n",
    "ELSE \"Scalene\"\n",
    "END\n",
    "FROM TRIANGLES;"
   ]
  },
  {
   "cell_type": "code",
   "execution_count": null,
   "id": "43f99e8a",
   "metadata": {},
   "outputs": [],
   "source": [
    "# Generate the following two result sets:\n",
    "\n",
    "# Query an alphabetically ordered list of all names in OCCUPATIONS,\n",
    "# immediately followed by the first letter of each profession as a parenthetical (i.e.: enclosed in parentheses). \n",
    "# For example: AnActorName(A), ADoctorName(D), AProfessorName(P), and ASingerName(S).\n",
    "# Query the number of ocurrences of each occupation in OCCUPATIONS. \n",
    "# Sort the occurrences in ascending order, and output them in the following format:\n",
    "\n",
    "# There are a total of [occupation_count] [occupation]s.\n",
    "# where [occupation_count] is the number of occurrences of an occupation in OCCUPATIONS and \n",
    "# [occupation] is the lowercase occupation name. \n",
    "# If more than one Occupation has the same [occupation_count], they should be ordered alphabetically.\n",
    "\n",
    "# Note: There will be at least two entries in the table for each type of occupation.\n",
    "\n",
    "1.SELECT Concat(Name, \"(\", LEFT(Occupation, 1), \")\") from OCCUPATIONS ORDER BY Name\n",
    "\n",
    "2.SELECT Concat(\"There are a total of \", count(Occupation), \" \", lower(Occupation), \"s.\")\n",
    "FROM OCCUPATIONS GROUP BY Occupation ORDER BY count(Occupation), Occupation"
   ]
  },
  {
   "cell_type": "code",
   "execution_count": null,
   "id": "a0d30b11",
   "metadata": {},
   "outputs": [],
   "source": [
    "# Occupations\n",
    "\n",
    "# Pivot the Occupation column in OCCUPATIONS so that each Name \n",
    "# is sorted alphabetically and displayed underneath its corresponding Occupation. \n",
    "# The output column headers should be Doctor, Professor, Singer, and Actor, respectively.\n",
    "\n",
    "# Note: Print NULL when there are no more names corresponding to an occupation.\n",
    "\n",
    "SELECT Doctor, Professor, Singer, Actor FROM (\n",
    "SELECT ROW_NUMBER() OVER (PARTITION BY occupation ORDER BY name) as rn, name, occupation FROM occupations) \n",
    "PIVOT \n",
    "(MAX(name) FOR occupation IN ('Doctor' as Doctor,'Professor' as Professor, 'Singer' as Singer, 'Actor' as Actor)) \n",
    "ORDER BY rn;"
   ]
  },
  {
   "cell_type": "code",
   "execution_count": null,
   "id": "d38c8ade",
   "metadata": {},
   "outputs": [],
   "source": []
  }
 ],
 "metadata": {
  "kernelspec": {
   "display_name": "Python 3",
   "language": "python",
   "name": "python3"
  },
  "language_info": {
   "codemirror_mode": {
    "name": "ipython",
    "version": 3
   },
   "file_extension": ".py",
   "mimetype": "text/x-python",
   "name": "python",
   "nbconvert_exporter": "python",
   "pygments_lexer": "ipython3",
   "version": "3.8.8"
  },
  "varInspector": {
   "cols": {
    "lenName": 16,
    "lenType": 16,
    "lenVar": 40
   },
   "kernels_config": {
    "python": {
     "delete_cmd_postfix": "",
     "delete_cmd_prefix": "del ",
     "library": "var_list.py",
     "varRefreshCmd": "print(var_dic_list())"
    },
    "r": {
     "delete_cmd_postfix": ") ",
     "delete_cmd_prefix": "rm(",
     "library": "var_list.r",
     "varRefreshCmd": "cat(var_dic_list()) "
    }
   },
   "types_to_exclude": [
    "module",
    "function",
    "builtin_function_or_method",
    "instance",
    "_Feature"
   ],
   "window_display": false
  }
 },
 "nbformat": 4,
 "nbformat_minor": 5
}
