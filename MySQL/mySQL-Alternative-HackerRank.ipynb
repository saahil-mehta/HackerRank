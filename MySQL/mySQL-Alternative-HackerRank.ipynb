{
 "cells": [
  {
   "cell_type": "code",
   "execution_count": null,
   "id": "e5046e6c",
   "metadata": {},
   "outputs": [],
   "source": [
    "# Draw the triangle 2\n",
    "\n",
    "# Wrong query prints it in seperate output lines\n",
    "# SELECT \"*\" FROM DUAL\n",
    "# UNION ALL SELECT \"**\" FROM DUAL\n",
    "# UNION ALL SELECT \"***\" FROM DUAL\n",
    "# UNION ALL SELECT \"****\" FROM DUAL;\n",
    "\n",
    "# SELECT rpad(\"*\",level*2,\"*\") FROM DUAL connect by level<=3;\n",
    "\n",
    "set @number = 0;\n",
    "select repeat('* ', @number := @number + 1) from information_schema.tables limit 20;"
   ]
  },
  {
   "cell_type": "code",
   "execution_count": null,
   "id": "b6d18323",
   "metadata": {},
   "outputs": [],
   "source": [
    "# Aggregations - Count Function\n",
    "# Query a count of the number of cities in CITY having a Population larger than 100,000 .\n",
    "\n",
    "SELECT COUNT(*) FROM CITY WHERE POPULATION>100000;"
   ]
  },
  {
   "cell_type": "code",
   "execution_count": null,
   "id": "00afb22c",
   "metadata": {},
   "outputs": [],
   "source": [
    "# Aggregations - Sum Function\n",
    "# Query the total population of all cities in CITY where District is California.\n",
    "\n",
    "SELECT SUM(POPULATION) FROM CITY WHERE DISTRICT=\"California\";"
   ]
  },
  {
   "cell_type": "code",
   "execution_count": null,
   "id": "c4a1ca88",
   "metadata": {},
   "outputs": [],
   "source": [
    "# Aggregations - Averages Function\n",
    "# Query the average population of all cities in CITY where District is California.\n",
    "\n",
    "SELECT AVG(POPULATION) FROM CITY WHERE DISTRICT=\"California\";"
   ]
  },
  {
   "cell_type": "code",
   "execution_count": null,
   "id": "814d925d",
   "metadata": {},
   "outputs": [],
   "source": [
    "# Average Population\n",
    "# Query the average population for all cities in CITY, rounded down to the nearest integer.\n",
    "\n",
    "SELECT FLOOR(AVG(POPULATION)) FROM CITY;"
   ]
  },
  {
   "cell_type": "code",
   "execution_count": null,
   "id": "32911670",
   "metadata": {},
   "outputs": [],
   "source": []
  },
  {
   "cell_type": "code",
   "execution_count": null,
   "id": "5b1ba4fb",
   "metadata": {},
   "outputs": [],
   "source": []
  },
  {
   "cell_type": "code",
   "execution_count": null,
   "id": "f111e13d",
   "metadata": {},
   "outputs": [],
   "source": []
  },
  {
   "cell_type": "code",
   "execution_count": null,
   "id": "524f5d72",
   "metadata": {},
   "outputs": [],
   "source": []
  }
 ],
 "metadata": {
  "kernelspec": {
   "display_name": "Python 3",
   "language": "python",
   "name": "python3"
  },
  "language_info": {
   "codemirror_mode": {
    "name": "ipython",
    "version": 3
   },
   "file_extension": ".py",
   "mimetype": "text/x-python",
   "name": "python",
   "nbconvert_exporter": "python",
   "pygments_lexer": "ipython3",
   "version": "3.8.8"
  },
  "varInspector": {
   "cols": {
    "lenName": 16,
    "lenType": 16,
    "lenVar": 40
   },
   "kernels_config": {
    "python": {
     "delete_cmd_postfix": "",
     "delete_cmd_prefix": "del ",
     "library": "var_list.py",
     "varRefreshCmd": "print(var_dic_list())"
    },
    "r": {
     "delete_cmd_postfix": ") ",
     "delete_cmd_prefix": "rm(",
     "library": "var_list.r",
     "varRefreshCmd": "cat(var_dic_list()) "
    }
   },
   "types_to_exclude": [
    "module",
    "function",
    "builtin_function_or_method",
    "instance",
    "_Feature"
   ],
   "window_display": false
  }
 },
 "nbformat": 4,
 "nbformat_minor": 5
}
