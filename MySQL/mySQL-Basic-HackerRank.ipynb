{
 "cells": [
  {
   "cell_type": "code",
   "execution_count": null,
   "id": "e5ca2c82",
   "metadata": {},
   "outputs": [],
   "source": [
    "# Revising the Select 1 \n",
    "# Query all columns for all American cities in the CITY table with populations larger than 100000. \n",
    "# The CountryCode for America is USA.\n",
    "\n",
    "Select * from city where POPULATION> 100000 and COUNTRYCODE = \"USA\""
   ]
  },
  {
   "cell_type": "code",
   "execution_count": null,
   "id": "67afc44d",
   "metadata": {},
   "outputs": [],
   "source": [
    "# Revising the Select 2 \n",
    "# Query the NAME field for all American cities in the CITY table with populations larger than 120000. \n",
    "#The CountryCode for America is USA.\n",
    "\n",
    "Select NAME from city where POPULATION> 120000 and COUNTRYCODE = \"USA\""
   ]
  },
  {
   "cell_type": "code",
   "execution_count": null,
   "id": "ac2018a6",
   "metadata": {},
   "outputs": [],
   "source": [
    "# Select All\n",
    "# Query all columns (attributes) for every row in the CITY table.\n",
    "\n",
    "SELECT * from CITY "
   ]
  },
  {
   "cell_type": "code",
   "execution_count": null,
   "id": "9ee0e9b1",
   "metadata": {},
   "outputs": [],
   "source": [
    "# Select by ID\n",
    "# Query all columns for a city in CITY with the ID 1661.\n",
    "\n",
    "SELECT * FROM CITY WHERE ID = 1661"
   ]
  },
  {
   "cell_type": "code",
   "execution_count": null,
   "id": "34e5a12c",
   "metadata": {},
   "outputs": [],
   "source": [
    "# Japanies City Attributes\n",
    "# Query all attributes of every Japanese city in the CITY table. The COUNTRYCODE for Japan is JPN.\n",
    "\n",
    "SELECT * FROM CITY WHERE COUNTRYCODE =\"JPN\""
   ]
  },
  {
   "cell_type": "code",
   "execution_count": null,
   "id": "e3dcd36c",
   "metadata": {},
   "outputs": [],
   "source": [
    "# Japanies City Names\n",
    "# Query the names of all the Japanese cities in the CITY table. The COUNTRYCODE for Japan is JPN.\n",
    "\n",
    "SELECT NAME FROM CITY WHERE COUNTRYCODE =\"JPN\""
   ]
  },
  {
   "cell_type": "code",
   "execution_count": null,
   "id": "6c0ae3dc",
   "metadata": {},
   "outputs": [],
   "source": [
    "# Weather Observation 1 \n",
    "# Query a list of CITY and STATE from the STATION table.\n",
    "\n",
    "SELECT CITY, STATE FROM STATION"
   ]
  },
  {
   "cell_type": "code",
   "execution_count": null,
   "id": "c761af45",
   "metadata": {},
   "outputs": [],
   "source": [
    "# Weather Observation 3 \n",
    "# Query a list of CITY names from STATION for cities that have an even ID number. \n",
    "# Print the results in any order, but exclude duplicates from the answer.\n",
    "\n",
    "SELECT DISTINCT(CITY) FROM STATION WHERE ID%2=0"
   ]
  },
  {
   "cell_type": "code",
   "execution_count": null,
   "id": "9a5b85dd",
   "metadata": {},
   "outputs": [],
   "source": [
    "# Weather Observation 4 \n",
    "# Find the difference between the \n",
    "# total number of CITY entries in the table and the number of distinct CITY entries in the table.\n",
    "\n",
    "SELECT (COUNT(CITY) - COUNT(DISTINCT(CITY))) FROM STATION"
   ]
  },
  {
   "cell_type": "code",
   "execution_count": null,
   "id": "126ee961",
   "metadata": {},
   "outputs": [],
   "source": [
    "# Weather Observation 5\n",
    "# Query the two cities in STATION with the shortest and longest CITY names, as well as their respective lengths \n",
    "#(i.e.: number of characters in the name). \n",
    "# If there is more than one smallest or largest city, choose the one that comes first when ordered alphabetically.\n",
    "\n",
    "SELECT CITY, LENGTH(CITY) as CITYLEN FROM STATION ORDER BY CITYLEN ASC, CITY ASC LIMIT 1;\n",
    "SELECT CITY, LENGTH(CITY) as CITYLEN FROM STATION ORDER BY CITYLEN DESC, CITY ASC LIMIT 1"
   ]
  },
  {
   "cell_type": "code",
   "execution_count": null,
   "id": "f4a60478",
   "metadata": {},
   "outputs": [],
   "source": [
    "# Weather Observation 6 \n",
    "# Query the list of CITY names starting with vowels (i.e., a, e, i, o, or u) from STATION. \n",
    "# Your result cannot contain duplicates.\n",
    "\n",
    "SELECT DISTINCT(CITY) FROM STATION \n",
    "WHERE CITY LIKE 'u%' OR CITY LIKE 'a%' OR CITY LIKE 'o%' OR CITY LIKE 'i%'OR CITY LIKE 'e%'"
   ]
  },
  {
   "cell_type": "code",
   "execution_count": null,
   "id": "06879afc",
   "metadata": {},
   "outputs": [],
   "source": [
    "# Weather Observation 7 \n",
    "# Query the list of CITY names ending with vowels (i.e., a, e, i, o, or u) from STATION. \n",
    "# Your result cannot contain duplicates.\n",
    "\n",
    "SELECT DISTINCT(CITY) FROM STATION \n",
    "WHERE CITY LIKE '%u' OR CITY LIKE '%a' OR CITY LIKE '%o' OR CITY LIKE '%i'OR CITY LIKE '%e'"
   ]
  },
  {
   "cell_type": "code",
   "execution_count": null,
   "id": "253c03bc",
   "metadata": {},
   "outputs": [],
   "source": [
    "# Weather Observation 8\n",
    "# Query the list of CITY names from STATION which have vowels (i.e., a, e, i, o, and u) as both their \n",
    "# first and last characters. Your result cannot contain duplicates.\n",
    "\n",
    "SELECT DISTINCT(CITY) FROM STATION \n",
    "WHERE LEFT(CITY , 1) IN ('a','e','i','o','u')\n",
    "AND RIGHT(CITY,1) IN  ('a','e','i','o','u')"
   ]
  },
  {
   "cell_type": "code",
   "execution_count": null,
   "id": "296b882b",
   "metadata": {},
   "outputs": [],
   "source": [
    "# Weather observation 9\n",
    "# Query the list of CITY names from STATION that do not start with vowels. Your result cannot contain duplicates.\n",
    "\n",
    "SELECT DISTINCT(CITY) FROM STATION \n",
    "WHERE LEFT(CITY,1) NOT IN  ('a','e','i','o','u')"
   ]
  },
  {
   "cell_type": "code",
   "execution_count": null,
   "id": "42e48e21",
   "metadata": {},
   "outputs": [],
   "source": [
    "# Weather observation 10\n",
    "# Query the list of CITY names from STATION that do not end with vowels. Your result cannot contain duplicates.\n",
    "\n",
    "SELECT DISTINCT(CITY) FROM STATION \n",
    "WHERE RIGHT(CITY,1) NOT IN  ('a','e','i','o','u')"
   ]
  },
  {
   "cell_type": "code",
   "execution_count": null,
   "id": "7ee42597",
   "metadata": {},
   "outputs": [],
   "source": [
    "# Weather observation 11\n",
    "# Query the list of CITY names from STATION that do not start/end \n",
    "# with vowels. Your result cannot contain duplicates.\n",
    "\n",
    "SELECT DISTINCT(CITY) FROM STATION \n",
    "WHERE LEFT(CITY , 1) NOT IN ('a','e','i','o','u')\n",
    "OR RIGHT(CITY,1) NOT IN  ('a','e','i','o','u')"
   ]
  },
  {
   "cell_type": "code",
   "execution_count": null,
   "id": "f530ac51",
   "metadata": {},
   "outputs": [],
   "source": [
    "# Higher than 75 marks\n",
    "# Query the Name of any student in STUDENTS who scored higher than 75 Marks. \n",
    "# Order your output by the last three characters of each name. \n",
    "# If two or more students both have names ending in the same last three characters (i.e.: Bobby, Robby, etc.), \n",
    "# secondary sort them by ascending ID.\n",
    "\n",
    "SELECT Name FROM STUDENTS WHERE Marks > 75 ORDER BY RIGHT(Name,3),ID ASC"
   ]
  },
  {
   "cell_type": "code",
   "execution_count": null,
   "id": "e7184a87",
   "metadata": {},
   "outputs": [],
   "source": [
    "# Employee Names\n",
    "# Write a query that prints a list of employee names \n",
    "# (i.e.: the name attribute) from the Employee table in alphabetical order.\n",
    "\n",
    "SELECT name FROM Employee ORDER BY name ASC"
   ]
  },
  {
   "cell_type": "code",
   "execution_count": null,
   "id": "280e6e1c",
   "metadata": {},
   "outputs": [],
   "source": [
    "# Weather Observation 12\n",
    "# Query the list of CITY names from STATION that do not start with vowels and \n",
    "# do not end with vowels. Your result cannot contain duplicates.\n",
    "\n",
    "SELECT DISTINCT(CITY) FROM STATION \n",
    "WHERE LEFT(CITY , 1) NOT IN ('A','E','I','O','U') \n",
    "AND RIGHT(CITY,1) NOT IN  ('a','e','i','o','u');"
   ]
  },
  {
   "cell_type": "code",
   "execution_count": null,
   "id": "9cf044e0",
   "metadata": {},
   "outputs": [],
   "source": [
    "# Population Density Difference\n",
    "# Query the difference between the maximum and minimum populations in CITY.\n",
    "\n",
    "SELECT\n",
    "MAX(POPULATION) - MIN(POPULATION)\n",
    "FROM CITY;"
   ]
  },
  {
   "cell_type": "code",
   "execution_count": null,
   "id": "b7f382ac",
   "metadata": {},
   "outputs": [],
   "source": [
    "# The Blunder\n",
    "# Samantha was tasked with calculating the average monthly salaries for \n",
    "# all employees in the EMPLOYEES table, but did not realize\n",
    "# her keyboard's  key was broken until after completing the calculation. \n",
    "# She wants your help finding the difference between her miscalculation (using salaries with any zeros removed), \n",
    "# and the actual average salary.\n",
    "\n",
    "# Write a query calculating the amount of error (i.e.: actual - miscalcaulted average monthly salaries), \n",
    "# and round it up to the next integer.\n",
    "\n",
    "SELECT CEIL(AVG(Salary) -(SELECT AVG(REPLACE(Salary,'0','')) FROM EMPLOYEES)) AS SOME\n",
    "FROM EMPLOYEES;"
   ]
  },
  {
   "cell_type": "code",
   "execution_count": null,
   "id": "d7ed5e30",
   "metadata": {},
   "outputs": [],
   "source": [
    "# Top Earners\n",
    "\n",
    "# We define an employee’s total earnings to be their monthly salary x months worked, and\n",
    "# the maximum total earnings to be the maximum total earnings for any employee in the Employee table.\n",
    "# Write a query to find the maximum total earnings for all employees as well as the total number of\n",
    "# employees who have maximum total earnings. \n",
    "# Then print these values as 2 space-separated integers.\n",
    "\n",
    "SELECT MAX(months * salary), COUNT(months * salary) \n",
    "FROM EMPLOYEE\n",
    "WHERE (months * salary) = (\n",
    "SELECT MAX(months * salary) FROM EMPLOYEE\n",
    ");"
   ]
  },
  {
   "cell_type": "code",
   "execution_count": null,
   "id": "cc5d8995",
   "metadata": {},
   "outputs": [],
   "source": []
  },
  {
   "cell_type": "code",
   "execution_count": null,
   "id": "fcac380e",
   "metadata": {},
   "outputs": [],
   "source": []
  }
 ],
 "metadata": {
  "kernelspec": {
   "display_name": "Python 3",
   "language": "python",
   "name": "python3"
  },
  "language_info": {
   "codemirror_mode": {
    "name": "ipython",
    "version": 3
   },
   "file_extension": ".py",
   "mimetype": "text/x-python",
   "name": "python",
   "nbconvert_exporter": "python",
   "pygments_lexer": "ipython3",
   "version": "3.8.8"
  },
  "varInspector": {
   "cols": {
    "lenName": 16,
    "lenType": 16,
    "lenVar": 40
   },
   "kernels_config": {
    "python": {
     "delete_cmd_postfix": "",
     "delete_cmd_prefix": "del ",
     "library": "var_list.py",
     "varRefreshCmd": "print(var_dic_list())"
    },
    "r": {
     "delete_cmd_postfix": ") ",
     "delete_cmd_prefix": "rm(",
     "library": "var_list.r",
     "varRefreshCmd": "cat(var_dic_list()) "
    }
   },
   "types_to_exclude": [
    "module",
    "function",
    "builtin_function_or_method",
    "instance",
    "_Feature"
   ],
   "window_display": false
  }
 },
 "nbformat": 4,
 "nbformat_minor": 5
}
