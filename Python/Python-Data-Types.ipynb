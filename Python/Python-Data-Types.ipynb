{
 "cells": [
  {
   "cell_type": "code",
   "execution_count": 76,
   "id": "c0ae7587",
   "metadata": {
    "ExecuteTime": {
     "end_time": "2022-05-25T07:57:44.820283Z",
     "start_time": "2022-05-25T07:57:43.246282Z"
    }
   },
   "outputs": [
    {
     "name": "stdout",
     "output_type": "stream",
     "text": [
      "12\n"
     ]
    }
   ],
   "source": [
    "# Consider a list (list = []). You can perform the following commands:\n",
    "# insert i e: Insert integer e at position i.\n",
    "# print: Print the list.\n",
    "# remove e: Delete the first occurrence of integer e.\n",
    "# append e: Insert integer e at the end of the list.\n",
    "# sort: Sort the list.\n",
    "# pop: Pop the last element from the list.\n",
    "# reverse: Reverse the list.\n",
    "# Initialize your list and read in the value n of followed by\n",
    "# n lines of commands where each command will be of the 7 types listed above. \n",
    "# Iterate through each command in order and perform the corresponding operation on your list\n",
    "\n",
    "if __name__ == '__main__':\n",
    "    N = int(input())"
   ]
  },
  {
   "cell_type": "code",
   "execution_count": 77,
   "id": "0cdc7e32",
   "metadata": {
    "ExecuteTime": {
     "end_time": "2022-05-25T07:59:42.823101Z",
     "start_time": "2022-05-25T07:57:45.929790Z"
    }
   },
   "outputs": [
    {
     "name": "stdout",
     "output_type": "stream",
     "text": [
      "insert 0 5\n",
      "insert 1 10\n",
      "insert 0 6\n",
      "print\n",
      "remove 6\n",
      "append 9\n",
      "append 1\n",
      "sort\n",
      "print\n",
      "pop\n",
      "reverse\n",
      "print\n"
     ]
    }
   ],
   "source": [
    "remember = []\n",
    "for i in range(0,N):\n",
    "    n = input()\n",
    "    remember.append(n)"
   ]
  },
  {
   "cell_type": "code",
   "execution_count": 124,
   "id": "2a6032c6",
   "metadata": {
    "ExecuteTime": {
     "end_time": "2022-05-25T08:09:47.559425Z",
     "start_time": "2022-05-25T08:09:47.548503Z"
    }
   },
   "outputs": [
    {
     "name": "stdout",
     "output_type": "stream",
     "text": [
      "[6, 5, 10]\n",
      "[1, 5, 9, 10]\n",
      "[9, 5, 1]\n"
     ]
    }
   ],
   "source": [
    "remember2 = []\n",
    "for i in range(len(remember)):\n",
    "    remember2.append(str.split(remember[i]))\n",
    "\n",
    "functions = [i[0] for i in remember2]\n",
    "\n",
    "result_list=[]\n",
    "for i in range(len(functions)):\n",
    "    k = functions[i]\n",
    "    if k==\"append\":\n",
    "        result_list.append(int(remember2[i][1]))\n",
    "    elif k ==\"insert\":\n",
    "        result_list.insert(int(remember2[i][1]),int(remember2[i][2]))\n",
    "    elif k ==\"print\":\n",
    "        print(result_list)\n",
    "    elif k ==\"remove\":\n",
    "        result_list.remove(int(remember2[i][1]))\n",
    "    elif k ==\"sort\":\n",
    "        result_list = sorted(result_list)\n",
    "    elif k ==\"pop\":\n",
    "        result_list.pop(-1)\n",
    "#             print(\"popped\")\n",
    "    elif k ==\"reverse\":\n",
    "        result_list.reverse()"
   ]
  },
  {
   "cell_type": "markdown",
   "id": "fb32f592",
   "metadata": {},
   "source": [
    "----------------------------------------"
   ]
  },
  {
   "cell_type": "code",
   "execution_count": 190,
   "id": "4aa468d4",
   "metadata": {
    "ExecuteTime": {
     "end_time": "2022-05-25T08:36:10.288396Z",
     "start_time": "2022-05-25T08:36:08.606045Z"
    }
   },
   "outputs": [
    {
     "name": "stdout",
     "output_type": "stream",
     "text": [
      "2\n",
      "1 2\n",
      "-3550055125485641917\n"
     ]
    }
   ],
   "source": [
    "if __name__ == '__main__':\n",
    "    n = int(input())\n",
    "    integer_list = map(int, input().split())\n",
    "    t = tuple(integer_list)\n",
    "    print(hash(t));"
   ]
  },
  {
   "cell_type": "code",
   "execution_count": null,
   "id": "3869f0f7",
   "metadata": {},
   "outputs": [],
   "source": []
  }
 ],
 "metadata": {
  "kernelspec": {
   "display_name": "Python 3",
   "language": "python",
   "name": "python3"
  },
  "language_info": {
   "codemirror_mode": {
    "name": "ipython",
    "version": 3
   },
   "file_extension": ".py",
   "mimetype": "text/x-python",
   "name": "python",
   "nbconvert_exporter": "python",
   "pygments_lexer": "ipython3",
   "version": "3.8.8"
  },
  "varInspector": {
   "cols": {
    "lenName": 16,
    "lenType": 16,
    "lenVar": 40
   },
   "kernels_config": {
    "python": {
     "delete_cmd_postfix": "",
     "delete_cmd_prefix": "del ",
     "library": "var_list.py",
     "varRefreshCmd": "print(var_dic_list())"
    },
    "r": {
     "delete_cmd_postfix": ") ",
     "delete_cmd_prefix": "rm(",
     "library": "var_list.r",
     "varRefreshCmd": "cat(var_dic_list()) "
    }
   },
   "types_to_exclude": [
    "module",
    "function",
    "builtin_function_or_method",
    "instance",
    "_Feature"
   ],
   "window_display": false
  }
 },
 "nbformat": 4,
 "nbformat_minor": 5
}
