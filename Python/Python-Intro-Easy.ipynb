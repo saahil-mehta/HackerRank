{
 "cells": [
  {
   "cell_type": "code",
   "execution_count": 16,
   "id": "ec2c9125",
   "metadata": {
    "ExecuteTime": {
     "end_time": "2022-05-12T07:11:25.966440Z",
     "start_time": "2022-05-12T07:11:24.608807Z"
    }
   },
   "outputs": [
    {
     "name": "stdout",
     "output_type": "stream",
     "text": [
      "21\n",
      "Weird\n"
     ]
    }
   ],
   "source": [
    "##if-else\n",
    "\n",
    "import math\n",
    "import os\n",
    "import random\n",
    "import re\n",
    "import sys\n",
    "\n",
    "if __name__ == '__main__':\n",
    "    n = int(input().strip())\n",
    "\n",
    "    if (n % 2) == 1:\n",
    "        print(\"Weird\")\n",
    "    elif (n % 2 == 0):\n",
    "        if(2<=n<=5):\n",
    "            print(\"Not Weird\")\n",
    "        if(6<=n<=20):\n",
    "            print(\"Weird\")\n",
    "        if(n>20):\n",
    "            print(\"Not Weird\")"
   ]
  },
  {
   "cell_type": "code",
   "execution_count": 20,
   "id": "c6b0e73b",
   "metadata": {
    "ExecuteTime": {
     "end_time": "2022-05-12T07:20:24.567420Z",
     "start_time": "2022-05-12T07:20:23.182134Z"
    }
   },
   "outputs": [
    {
     "name": "stdout",
     "output_type": "stream",
     "text": [
      "3\n",
      "5\n",
      "8\n",
      "-2\n",
      "15\n"
     ]
    }
   ],
   "source": [
    "## arithmetic\n",
    "\n",
    "if __name__ == '__main__':\n",
    "    a = int(input())\n",
    "    b = int(input())\n",
    "    \n",
    "    print(int(a)+int(b))\n",
    "    print(int(a)-int(b))\n",
    "    print(int(a)*int(b))"
   ]
  },
  {
   "cell_type": "code",
   "execution_count": 21,
   "id": "10fba053",
   "metadata": {
    "ExecuteTime": {
     "end_time": "2022-05-12T07:27:05.231464Z",
     "start_time": "2022-05-12T07:26:59.562855Z"
    }
   },
   "outputs": [
    {
     "name": "stdout",
     "output_type": "stream",
     "text": [
      "3\n",
      "5\n",
      "0\n",
      "0.6\n"
     ]
    }
   ],
   "source": [
    "## division\n",
    "\n",
    "if __name__ == '__main__':\n",
    "    a = int(input())\n",
    "    b = int(input())\n",
    "    \n",
    "    print(int(a)//int(b))\n",
    "    print(a/b)"
   ]
  },
  {
   "cell_type": "code",
   "execution_count": 43,
   "id": "d0f26559",
   "metadata": {
    "ExecuteTime": {
     "end_time": "2022-05-12T07:40:02.819771Z",
     "start_time": "2022-05-12T07:40:01.869338Z"
    }
   },
   "outputs": [
    {
     "name": "stdout",
     "output_type": "stream",
     "text": [
      "3\n",
      "0\n",
      "1\n",
      "4\n"
     ]
    }
   ],
   "source": [
    "## loops\n",
    "if __name__ == '__main__':\n",
    "    n = int(input())\n",
    "    for i in range(n):\n",
    "        print(i**2)"
   ]
  },
  {
   "cell_type": "code",
   "execution_count": 54,
   "id": "6f6ab4a7",
   "metadata": {
    "ExecuteTime": {
     "end_time": "2022-05-12T07:58:10.415526Z",
     "start_time": "2022-05-12T07:58:09.111951Z"
    }
   },
   "outputs": [
    {
     "name": "stdout",
     "output_type": "stream",
     "text": [
      "1992\n",
      "True\n"
     ]
    }
   ],
   "source": [
    "## functions \n",
    "def is_leap(year):\n",
    "    leap = False\n",
    "    if(year%4)==0:\n",
    "        leap=True\n",
    "        if(year%100)==0:\n",
    "            leap=False\n",
    "        if(year%400)==0:\n",
    "            leap=True\n",
    "    return leap\n",
    "\n",
    "year = int(input())\n",
    "print(is_leap(year))"
   ]
  },
  {
   "cell_type": "code",
   "execution_count": 61,
   "id": "991c13ab",
   "metadata": {
    "ExecuteTime": {
     "end_time": "2022-05-12T08:02:59.597279Z",
     "start_time": "2022-05-12T08:02:58.286479Z"
    }
   },
   "outputs": [
    {
     "name": "stdout",
     "output_type": "stream",
     "text": [
      "5\n",
      "12345"
     ]
    }
   ],
   "source": [
    "## print functions \n",
    "if __name__ == '__main__':\n",
    "    n = int(input())\n",
    "    \n",
    "    for i in range(n):\n",
    "        i+=1\n",
    "        print(i,end=\"\")"
   ]
  },
  {
   "cell_type": "code",
   "execution_count": null,
   "id": "c0c01914",
   "metadata": {},
   "outputs": [],
   "source": [
    "## check subset\n"
   ]
  }
 ],
 "metadata": {
  "kernelspec": {
   "display_name": "Python 3",
   "language": "python",
   "name": "python3"
  },
  "language_info": {
   "codemirror_mode": {
    "name": "ipython",
    "version": 3
   },
   "file_extension": ".py",
   "mimetype": "text/x-python",
   "name": "python",
   "nbconvert_exporter": "python",
   "pygments_lexer": "ipython3",
   "version": "3.8.8"
  },
  "varInspector": {
   "cols": {
    "lenName": 16,
    "lenType": 16,
    "lenVar": 40
   },
   "kernels_config": {
    "python": {
     "delete_cmd_postfix": "",
     "delete_cmd_prefix": "del ",
     "library": "var_list.py",
     "varRefreshCmd": "print(var_dic_list())"
    },
    "r": {
     "delete_cmd_postfix": ") ",
     "delete_cmd_prefix": "rm(",
     "library": "var_list.r",
     "varRefreshCmd": "cat(var_dic_list()) "
    }
   },
   "types_to_exclude": [
    "module",
    "function",
    "builtin_function_or_method",
    "instance",
    "_Feature"
   ],
   "window_display": false
  }
 },
 "nbformat": 4,
 "nbformat_minor": 5
}
