{
 "cells": [
  {
   "cell_type": "code",
   "execution_count": 16,
   "id": "ec2c9125",
   "metadata": {
    "ExecuteTime": {
     "end_time": "2022-05-12T07:11:25.966440Z",
     "start_time": "2022-05-12T07:11:24.608807Z"
    }
   },
   "outputs": [
    {
     "name": "stdout",
     "output_type": "stream",
     "text": [
      "21\n",
      "Weird\n"
     ]
    }
   ],
   "source": [
    "##if-else\n",
    "\n",
    "import math\n",
    "import os\n",
    "import random\n",
    "import re\n",
    "import sys\n",
    "\n",
    "if __name__ == '__main__':\n",
    "    n = int(input().strip())\n",
    "\n",
    "    if (n % 2) == 1:\n",
    "        print(\"Weird\")\n",
    "    elif (n % 2 == 0):\n",
    "        if(2<=n<=5):\n",
    "            print(\"Not Weird\")\n",
    "        if(6<=n<=20):\n",
    "            print(\"Weird\")\n",
    "        if(n>20):\n",
    "            print(\"Not Weird\")"
   ]
  },
  {
   "cell_type": "code",
   "execution_count": 20,
   "id": "c6b0e73b",
   "metadata": {
    "ExecuteTime": {
     "end_time": "2022-05-12T07:20:24.567420Z",
     "start_time": "2022-05-12T07:20:23.182134Z"
    }
   },
   "outputs": [
    {
     "name": "stdout",
     "output_type": "stream",
     "text": [
      "3\n",
      "5\n",
      "8\n",
      "-2\n",
      "15\n"
     ]
    }
   ],
   "source": [
    "## arithmetic\n",
    "\n",
    "if __name__ == '__main__':\n",
    "    a = int(input())\n",
    "    b = int(input())\n",
    "    \n",
    "    print(int(a)+int(b))\n",
    "    print(int(a)-int(b))\n",
    "    print(int(a)*int(b))"
   ]
  },
  {
   "cell_type": "code",
   "execution_count": 21,
   "id": "10fba053",
   "metadata": {
    "ExecuteTime": {
     "end_time": "2022-05-12T07:27:05.231464Z",
     "start_time": "2022-05-12T07:26:59.562855Z"
    }
   },
   "outputs": [
    {
     "name": "stdout",
     "output_type": "stream",
     "text": [
      "3\n",
      "5\n",
      "0\n",
      "0.6\n"
     ]
    }
   ],
   "source": [
    "## division\n",
    "\n",
    "if __name__ == '__main__':\n",
    "    a = int(input())\n",
    "    b = int(input())\n",
    "    \n",
    "    print(int(a)//int(b))\n",
    "    print(a/b)"
   ]
  },
  {
   "cell_type": "code",
   "execution_count": 43,
   "id": "d0f26559",
   "metadata": {
    "ExecuteTime": {
     "end_time": "2022-05-12T07:40:02.819771Z",
     "start_time": "2022-05-12T07:40:01.869338Z"
    }
   },
   "outputs": [
    {
     "name": "stdout",
     "output_type": "stream",
     "text": [
      "3\n",
      "0\n",
      "1\n",
      "4\n"
     ]
    }
   ],
   "source": [
    "## loops\n",
    "if __name__ == '__main__':\n",
    "    n = int(input())\n",
    "    for i in range(n):\n",
    "        print(i**2)"
   ]
  },
  {
   "cell_type": "code",
   "execution_count": 54,
   "id": "6f6ab4a7",
   "metadata": {
    "ExecuteTime": {
     "end_time": "2022-05-12T07:58:10.415526Z",
     "start_time": "2022-05-12T07:58:09.111951Z"
    }
   },
   "outputs": [
    {
     "name": "stdout",
     "output_type": "stream",
     "text": [
      "1992\n",
      "True\n"
     ]
    }
   ],
   "source": [
    "## functions \n",
    "def is_leap(year):\n",
    "    leap = False\n",
    "    if(year%4)==0:\n",
    "        leap=True\n",
    "        if(year%100)==0:\n",
    "            leap=False\n",
    "        if(year%400)==0:\n",
    "            leap=True\n",
    "    return leap\n",
    "\n",
    "year = int(input())\n",
    "print(is_leap(year))"
   ]
  },
  {
   "cell_type": "code",
   "execution_count": 61,
   "id": "991c13ab",
   "metadata": {
    "ExecuteTime": {
     "end_time": "2022-05-12T08:02:59.597279Z",
     "start_time": "2022-05-12T08:02:58.286479Z"
    }
   },
   "outputs": [
    {
     "name": "stdout",
     "output_type": "stream",
     "text": [
      "5\n",
      "12345"
     ]
    }
   ],
   "source": [
    "## print functions \n",
    "if __name__ == '__main__':\n",
    "    n = int(input())\n",
    "    \n",
    "    for i in range(n):\n",
    "        i+=1\n",
    "        print(i,end=\"\")"
   ]
  },
  {
   "cell_type": "code",
   "execution_count": 21,
   "id": "aa42c107",
   "metadata": {
    "ExecuteTime": {
     "end_time": "2022-05-13T07:36:22.862585Z",
     "start_time": "2022-05-13T07:35:58.308491Z"
    }
   },
   "outputs": [
    {
     "name": "stdout",
     "output_type": "stream",
     "text": [
      "2\n",
      "3\n",
      "1 2 3\n",
      "3\n",
      "1 2 3\n",
      "True\n",
      "4 \n",
      "1 2 4 \n",
      "4\n",
      "1 5 2 6\n",
      "False\n"
     ]
    }
   ],
   "source": [
    "#### check subset\n",
    "# The first line will contain the number of test cases, n.\n",
    "# The first line of each test case contains the number of elements in set A.\n",
    "# The second line of each test case contains the space separated elements of set A.\n",
    "# The third line of each test case contains the number of elements in set B.\n",
    "# The fourth line of each test case contains the space separated elements of set B.\n",
    "\n",
    "n = int(input())\n",
    "for i in range(n):\n",
    "    na = int(input())\n",
    "    a = list(map(int,input().split()[:na]))\n",
    "    nb = int(input())\n",
    "    b = list(map(int,input().split()[:nb]))\n",
    "    if(set(a).issubset(b)):\n",
    "        print(\"True\")\n",
    "    else:\n",
    "        print(\"False\")"
   ]
  },
  {
   "cell_type": "code",
   "execution_count": 37,
   "id": "473862a0",
   "metadata": {
    "ExecuteTime": {
     "end_time": "2022-05-13T08:29:34.551488Z",
     "start_time": "2022-05-13T08:29:22.929860Z"
    },
    "scrolled": true
   },
   "outputs": [
    {
     "name": "stdout",
     "output_type": "stream",
     "text": [
      "1 2 3 4 5 6 7\n",
      "2\n",
      "1 2 3 4\n",
      "5 6 7 8\n",
      "False\n"
     ]
    }
   ],
   "source": [
    "# The first line contains the space separated elements of set A.\n",
    "# The second line contains integer n, the number of other sets.\n",
    "# The next n lines contains the space separated elements of the other sets.\n",
    "\n",
    "a = list(map(int,input().split()))\n",
    "n = int(input())\n",
    "li_1 = []\n",
    "list_result=[]\n",
    "for i in range(n):\n",
    "    if (set(a).issuperset(set(list(map(int,input().split()))))):\n",
    "        list_result.append(\"True\")\n",
    "    else:\n",
    "        list_result.append(\"False\")\n",
    "if(\"False\" in list_result):\n",
    "    print(\"False\")\n",
    "else:\n",
    "    print(\"True\")"
   ]
  },
  {
   "cell_type": "code",
   "execution_count": 53,
   "id": "6ce1eb59",
   "metadata": {
    "ExecuteTime": {
     "end_time": "2022-05-16T08:53:11.243693Z",
     "start_time": "2022-05-16T08:53:08.607075Z"
    }
   },
   "outputs": [
    {
     "name": "stdout",
     "output_type": "stream",
     "text": [
      "1\n",
      "1\n",
      "1\n",
      "2\n",
      "[[0, 0, 0], [0, 0, 1], [0, 1, 0], [1, 0, 0], [1, 1, 1]]\n"
     ]
    }
   ],
   "source": [
    "# List comprehensions\n",
    "# You are given three integers x, y and z representing the dimensions of a cuboid along with an integer n. \n",
    "# Print a list of all possible coordinates given by (i, j, k) on a 3D grid \n",
    "# where the sum of i + j + k is not equal to n. Here, 0 <= i <= x; 0 <= j <= y; 0 <= k <= z.\n",
    "# Please use list comprehensions rather than multiple loops, as a learning exercise.\n",
    "\n",
    "if __name__ == '__main__':\n",
    "    x = int(input())\n",
    "    y = int(input())\n",
    "    z = int(input())\n",
    "    n = int(input())\n",
    "    \n",
    "#     [print([i,j,k]) for i in range(x+1) for j in range(y+1) for k in range(z+1) if i+j+k!=n]\n",
    "main = []\n",
    "for i in range(x+1):\n",
    "    for j in range(y+1):\n",
    "        for k in range(z+1):\n",
    "            if i+j+k!=n:\n",
    "                main.append([i,j,k])\n",
    "print(main)"
   ]
  },
  {
   "cell_type": "code",
   "execution_count": 24,
   "id": "4a67875a",
   "metadata": {
    "ExecuteTime": {
     "end_time": "2022-05-17T16:21:41.020768Z",
     "start_time": "2022-05-17T16:21:30.922414Z"
    }
   },
   "outputs": [
    {
     "name": "stdout",
     "output_type": "stream",
     "text": [
      "5\n",
      "2 3 3 6 5 \n",
      "5\n"
     ]
    }
   ],
   "source": [
    "# Runner up score\n",
    "# Given the participants' score sheet for your University Sports Day, you are required to find the runner-up score. \n",
    "# You are given n scores. Store them in a list and find the score of the runner-up.\n",
    "\n",
    "if __name__ == '__main__':\n",
    "    n = int(input())\n",
    "    arr = list(map(int, input().split()[:n]))\n",
    "    runner_up = sorted(list(set(arr)))[-2]\n",
    "    print(runner_up)"
   ]
  },
  {
   "cell_type": "code",
   "execution_count": 125,
   "id": "6d4e9d8a",
   "metadata": {
    "ExecuteTime": {
     "end_time": "2022-05-18T07:48:31.225044Z",
     "start_time": "2022-05-18T07:48:07.386141Z"
    },
    "scrolled": true
   },
   "outputs": [
    {
     "name": "stdout",
     "output_type": "stream",
     "text": [
      "5\n",
      "Harry\n",
      "37.21\n",
      "Barry\n",
      "37.21\n",
      "Tina\n",
      "37.2\n",
      "Akriti\n",
      "41\n",
      "Harsh\n",
      "39\n",
      "Barry\n",
      "Harry\n"
     ]
    }
   ],
   "source": [
    "# Given the names and grades for each student in a class of  students,\n",
    "# store them in a nested list and print the name(s) of any student(s) having the second lowest grade.\n",
    "# Note: If there are multiple students with the second lowest grade,\n",
    "# order their names alphabetically and print each name on a new line.\n",
    "\n",
    "if __name__ == '__main__':\n",
    "    name_list = []\n",
    "    score_list = []\n",
    "    for _ in range(int(input())):\n",
    "        name = input()\n",
    "        name_list.append(name)\n",
    "        score = float(input())\n",
    "        score_list.append(score)\n",
    "\n",
    "    main = []\n",
    "    for i in range(len(name_list)):\n",
    "        main.append([name_list[i], score_list[i]])\n",
    "    second_lowest = sorted(list(set(score_list)))[1]\n",
    "    names_sl = []\n",
    "    for i in range(len(main)):\n",
    "        if(main[i][1]) == second_lowest:\n",
    "            names_sl.append(main[i])\n",
    "#     print([i[0] for i in names_sl])\n",
    "    names_final = []\n",
    "    for i in range(len(names_sl)):\n",
    "        names_final.append(names_sl[i][0])\n",
    "    [print(i) for i in sorted(names_final)]"
   ]
  },
  {
   "cell_type": "code",
   "execution_count": null,
   "id": "be6efd84",
   "metadata": {},
   "outputs": [],
   "source": [
    "# # 2nd Solution\n",
    "# result = []\n",
    "# scorelist = []\n",
    "# if __name__ == '__main__':\n",
    "#     for _ in range(int(input())):\n",
    "#         name = input()\n",
    "#         score = float(input())\n",
    "#         result += [[name, score]]\n",
    "#         scorelist += [score]\n",
    "#     b = sorted(list(set(scorelist)))[1]\n",
    "#     for a, c in sorted(result):\n",
    "#         if c == b:\n",
    "#             print(a)"
   ]
  },
  {
   "cell_type": "code",
   "execution_count": 138,
   "id": "1c20c4c1",
   "metadata": {
    "ExecuteTime": {
     "end_time": "2022-05-18T07:56:11.616187Z",
     "start_time": "2022-05-18T07:55:48.445525Z"
    }
   },
   "outputs": [
    {
     "name": "stdout",
     "output_type": "stream",
     "text": [
      "2\n",
      "Mark 25 26 27.5\n",
      "Richard 20 18 15.5\n",
      "Richard\n",
      "17.833333333333332\n"
     ]
    }
   ],
   "source": [
    "## Finding the percentage\n",
    "# The provided code stub will read in a dictionary containing key/value pairs of name:[marks] for a\n",
    "# list of students. \n",
    "# Print the average of the marks array for the student name provided, showing 2 places after the decimal.\n",
    "\n",
    "if __name__ == '__main__':\n",
    "    n = int(input())\n",
    "    student_marks = {}\n",
    "    for _ in range(n):\n",
    "        name, *line = input().split()\n",
    "        scores = list(map(float, line))\n",
    "        student_marks[name] = scores\n",
    "    query_name = input()\n",
    "    marks = student_marks[query_name] \n",
    "    marks=sum(marks)/len(marks)\n",
    "    print(format(marks, '.2f'))"
   ]
  },
  {
   "cell_type": "code",
   "execution_count": 137,
   "id": "b83b4cc3",
   "metadata": {
    "ExecuteTime": {
     "end_time": "2022-05-18T07:55:08.635475Z",
     "start_time": "2022-05-18T07:55:08.630545Z"
    }
   },
   "outputs": [
    {
     "name": "stdout",
     "output_type": "stream",
     "text": [
      "56.0\n"
     ]
    }
   ],
   "source": []
  },
  {
   "cell_type": "code",
   "execution_count": null,
   "id": "b97fe634",
   "metadata": {},
   "outputs": [],
   "source": []
  }
 ],
 "metadata": {
  "kernelspec": {
   "display_name": "Python 3",
   "language": "python",
   "name": "python3"
  },
  "language_info": {
   "codemirror_mode": {
    "name": "ipython",
    "version": 3
   },
   "file_extension": ".py",
   "mimetype": "text/x-python",
   "name": "python",
   "nbconvert_exporter": "python",
   "pygments_lexer": "ipython3",
   "version": "3.8.8"
  },
  "varInspector": {
   "cols": {
    "lenName": 16,
    "lenType": 16,
    "lenVar": 40
   },
   "kernels_config": {
    "python": {
     "delete_cmd_postfix": "",
     "delete_cmd_prefix": "del ",
     "library": "var_list.py",
     "varRefreshCmd": "print(var_dic_list())"
    },
    "r": {
     "delete_cmd_postfix": ") ",
     "delete_cmd_prefix": "rm(",
     "library": "var_list.r",
     "varRefreshCmd": "cat(var_dic_list()) "
    }
   },
   "types_to_exclude": [
    "module",
    "function",
    "builtin_function_or_method",
    "instance",
    "_Feature"
   ],
   "window_display": false
  }
 },
 "nbformat": 4,
 "nbformat_minor": 5
}
