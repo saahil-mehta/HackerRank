{
 "cells": [
  {
   "cell_type": "code",
   "execution_count": 163,
   "id": "c1189686",
   "metadata": {
    "ExecuteTime": {
     "end_time": "2022-05-19T08:02:35.712527Z",
     "start_time": "2022-05-19T08:02:33.078977Z"
    }
   },
   "outputs": [
    {
     "name": "stdout",
     "output_type": "stream",
     "text": [
      "177\n",
      "10\n",
      "17\n",
      "7\n",
      "(17, 7)\n"
     ]
    }
   ],
   "source": [
    "# Mod Divmod\n",
    "# One of the built-in functions of Python is divmod, \n",
    "# which takes two arguments a and b and returns a tuple containing the quotient of a/b first\n",
    "# and then the remainder a.\n",
    "a = int(input())\n",
    "b = int(input())\n",
    "print(a//b)\n",
    "print(a%b)\n",
    "print(divmod(a,b))"
   ]
  },
  {
   "cell_type": "code",
   "execution_count": 166,
   "id": "8695c630",
   "metadata": {
    "ExecuteTime": {
     "end_time": "2022-05-19T08:12:16.397156Z",
     "start_time": "2022-05-19T08:12:04.944264Z"
    }
   },
   "outputs": [
    {
     "name": "stdout",
     "output_type": "stream",
     "text": [
      "2\n",
      "2\n",
      "4\n",
      "4\n",
      "0\n"
     ]
    }
   ],
   "source": [
    "# Power Mod Power\n",
    "# So far, we have only heard of Python's powers. Now, we will witness them!\n",
    "# Powers or exponents in Python can be calculated using the built-in power function. \n",
    "# a^b modm.\n",
    "\n",
    "a,b,m = int(input()),int(input()),int(input())\n",
    "print(pow(a,b))\n",
    "print(pow(a,b,m))"
   ]
  },
  {
   "cell_type": "code",
   "execution_count": 167,
   "id": "926d4484",
   "metadata": {
    "ExecuteTime": {
     "end_time": "2022-05-19T08:16:53.878717Z",
     "start_time": "2022-05-19T08:16:49.792137Z"
    }
   },
   "outputs": [
    {
     "name": "stdout",
     "output_type": "stream",
     "text": [
      "2\n",
      "2\n",
      "4\n",
      "2\n",
      "20\n"
     ]
    }
   ],
   "source": [
    "# Integers Come In All Sizes\n",
    "# Read four numbers, a, b, c, and d, and print the result of a^b + c^d.\n",
    "\n",
    "a,b,l,m = int(input()),int(input()),int(input()),int(input())\n",
    "print(pow(a,b)+pow(l,m))"
   ]
  },
  {
   "cell_type": "code",
   "execution_count": 117,
   "id": "12bd2e7d",
   "metadata": {
    "ExecuteTime": {
     "end_time": "2022-05-19T09:07:02.772389Z",
     "start_time": "2022-05-19T09:07:01.625930Z"
    }
   },
   "outputs": [
    {
     "name": "stdout",
     "output_type": "stream",
     "text": [
      "5\n",
      "1\n",
      "22\n",
      "333\n",
      "4444\n"
     ]
    }
   ],
   "source": [
    "# Triangle Quest\n",
    "\n",
    "# for i in range(1,int(input())): #More than 2 lines will result in 0 score. Do not leave a blank line also\n",
    "#     print(str(i)*i)\n",
    "\n",
    "# for i in range(1,int(input())):\n",
    "#     print(int(i*\"1\")*i)\n",
    "\n",
    "for i in range(1,int(input())):\n",
    "    print(i*(10**i-1)//9)"
   ]
  },
  {
   "cell_type": "code",
   "execution_count": 116,
   "id": "3de8a1a8",
   "metadata": {
    "ExecuteTime": {
     "end_time": "2022-05-19T09:06:44.496996Z",
     "start_time": "2022-05-19T09:06:44.490017Z"
    }
   },
   "outputs": [
    {
     "data": {
      "text/plain": [
       "111"
      ]
     },
     "execution_count": 116,
     "metadata": {},
     "output_type": "execute_result"
    }
   ],
   "source": [
    "# (10**3)//9"
   ]
  },
  {
   "cell_type": "code",
   "execution_count": null,
   "id": "c1ea8930",
   "metadata": {},
   "outputs": [],
   "source": []
  },
  {
   "cell_type": "code",
   "execution_count": null,
   "id": "1e94b067",
   "metadata": {},
   "outputs": [],
   "source": []
  }
 ],
 "metadata": {
  "kernelspec": {
   "display_name": "Python 3",
   "language": "python",
   "name": "python3"
  },
  "language_info": {
   "codemirror_mode": {
    "name": "ipython",
    "version": 3
   },
   "file_extension": ".py",
   "mimetype": "text/x-python",
   "name": "python",
   "nbconvert_exporter": "python",
   "pygments_lexer": "ipython3",
   "version": "3.8.8"
  },
  "varInspector": {
   "cols": {
    "lenName": 16,
    "lenType": 16,
    "lenVar": 40
   },
   "kernels_config": {
    "python": {
     "delete_cmd_postfix": "",
     "delete_cmd_prefix": "del ",
     "library": "var_list.py",
     "varRefreshCmd": "print(var_dic_list())"
    },
    "r": {
     "delete_cmd_postfix": ") ",
     "delete_cmd_prefix": "rm(",
     "library": "var_list.r",
     "varRefreshCmd": "cat(var_dic_list()) "
    }
   },
   "types_to_exclude": [
    "module",
    "function",
    "builtin_function_or_method",
    "instance",
    "_Feature"
   ],
   "window_display": false
  }
 },
 "nbformat": 4,
 "nbformat_minor": 5
}
