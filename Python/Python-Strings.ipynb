{
 "cells": [
  {
   "cell_type": "code",
   "execution_count": 32,
   "id": "bff58f52",
   "metadata": {
    "ExecuteTime": {
     "end_time": "2022-05-25T10:18:12.864592Z",
     "start_time": "2022-05-25T10:18:06.724525Z"
    }
   },
   "outputs": [
    {
     "name": "stdout",
     "output_type": "stream",
     "text": [
      "sOMe ThIng\n",
      "SomE tHiNG\n"
     ]
    }
   ],
   "source": [
    "#sWAP cASE\n",
    "# You are given a string and your task is to swap cases. \n",
    "# In other words, convert all lowercase letters to uppercase letters and vice versa.\n",
    "def swap_case(s):\n",
    "    news=[]\n",
    "    for i in range(len(s)):\n",
    "        if s[i].islower():\n",
    "            news.append(s[i].upper())\n",
    "        elif s[i].isupper():\n",
    "            news.append(s[i].lower())\n",
    "        else:\n",
    "            news.append(s[i])\n",
    "    return \"\".join(news)\n",
    "if __name__ == '__main__':\n",
    "    s = input()\n",
    "    result = swap_case(s)\n",
    "    print(result)"
   ]
  },
  {
   "cell_type": "code",
   "execution_count": 51,
   "id": "92e68851",
   "metadata": {
    "ExecuteTime": {
     "end_time": "2022-05-25T10:48:51.518213Z",
     "start_time": "2022-05-25T10:48:49.724692Z"
    }
   },
   "outputs": [
    {
     "name": "stdout",
     "output_type": "stream",
     "text": [
      "do it now\n",
      "do-it-now\n"
     ]
    }
   ],
   "source": [
    "## Split and join \n",
    "# You are given a string. Split the string on a \" \" (space) delimiter and join using a - hyphen.\n",
    "\n",
    "def split_and_join(line):\n",
    "    line = line.split(\" \")\n",
    "    line_sj = \"-\".join(line)\n",
    "    return line_sj\n",
    "\n",
    "if __name__ == '__main__':\n",
    "    line = input()\n",
    "    result = split_and_join(line)\n",
    "    print(result)"
   ]
  },
  {
   "cell_type": "code",
   "execution_count": 3,
   "id": "1534f65d",
   "metadata": {
    "ExecuteTime": {
     "end_time": "2022-05-27T08:36:11.195877Z",
     "start_time": "2022-05-27T08:36:07.543148Z"
    },
    "scrolled": true
   },
   "outputs": [
    {
     "name": "stdout",
     "output_type": "stream",
     "text": [
      "Sahil\n",
      "Mehta\n",
      "Hello Sahil Mehta! You just delved into python.\n"
     ]
    }
   ],
   "source": [
    "# What's your name?\n",
    "\n",
    "# Complete the 'print_full_name' function below.\n",
    "#\n",
    "# The function is expected to return a STRING.\n",
    "# The function accepts following parameters:\n",
    "#  1. STRING first\n",
    "#  2. STRING last\n",
    "#\n",
    "\n",
    "def print_full_name(first, last):\n",
    "     return print('Hello '+first+' '+last+'! You just delved into python.') \n",
    "\n",
    "if __name__ == '__main__':\n",
    "    first_name = input()\n",
    "    last_name = input()\n",
    "    print_full_name(first_name, last_name)"
   ]
  },
  {
   "cell_type": "code",
   "execution_count": 17,
   "id": "4405eaae",
   "metadata": {
    "ExecuteTime": {
     "end_time": "2022-05-27T08:43:07.406954Z",
     "start_time": "2022-05-27T08:43:00.832182Z"
    }
   },
   "outputs": [
    {
     "name": "stdout",
     "output_type": "stream",
     "text": [
      "abracadabra\n",
      "5 k\n",
      "abrackdabra\n"
     ]
    }
   ],
   "source": [
    "# Mutations\n",
    "# We have seen that lists are mutable (they can be changed), and tuples are immutable (they cannot be changed).\n",
    "\n",
    "# Let's try to understand this with an example.\n",
    "\n",
    "# You are given an immutable string, and you want to make changes to it.\n",
    "def mutate_string(string, position, character):\n",
    "    main = list(string)\n",
    "    main[int(position)] = character\n",
    "    main_1 = \"\".join(main)\n",
    "    return main_1\n",
    "\n",
    "\n",
    "if __name__ == '__main__':\n",
    "    s = input()\n",
    "    i, c = input().split()\n",
    "    s_new = mutate_string(s, int(i), c)\n",
    "    print(s_new)"
   ]
  },
  {
   "cell_type": "code",
   "execution_count": 40,
   "id": "3de312e8",
   "metadata": {
    "ExecuteTime": {
     "end_time": "2022-05-27T11:56:24.850412Z",
     "start_time": "2022-05-27T11:56:17.876358Z"
    }
   },
   "outputs": [
    {
     "name": "stdout",
     "output_type": "stream",
     "text": [
      "ABCDCDC\n",
      "CDC\n",
      "2\n"
     ]
    }
   ],
   "source": [
    "# In this challenge, the user enters a string and a substring. \n",
    "# You have to print the number of times that the substring occurs in the given string. \n",
    "# String traversal will take place from left to right, not from right to left.\n",
    "# NOTE: String letters are case-sensitive.\n",
    "# The first line of input contains the original string. The next line contains the substring.\n",
    "\n",
    "\n",
    "def count_substring(string, sub_string):\n",
    "    j=0\n",
    "    for i in range(len(string)):\n",
    "        if string.startswith(sub_string,i):\n",
    "            j+=1\n",
    "    return j\n",
    "\n",
    "if __name__ == '__main__':\n",
    "    string = input().strip()\n",
    "    sub_string = input().strip()\n",
    "    count = count_substring(string, sub_string)\n",
    "    print(count)"
   ]
  },
  {
   "cell_type": "code",
   "execution_count": null,
   "id": "73266214",
   "metadata": {},
   "outputs": [],
   "source": []
  },
  {
   "cell_type": "code",
   "execution_count": null,
   "id": "15eb7c2d",
   "metadata": {},
   "outputs": [],
   "source": []
  },
  {
   "cell_type": "code",
   "execution_count": null,
   "id": "cbadf22c",
   "metadata": {},
   "outputs": [],
   "source": []
  }
 ],
 "metadata": {
  "kernelspec": {
   "display_name": "Python 3",
   "language": "python",
   "name": "python3"
  },
  "language_info": {
   "codemirror_mode": {
    "name": "ipython",
    "version": 3
   },
   "file_extension": ".py",
   "mimetype": "text/x-python",
   "name": "python",
   "nbconvert_exporter": "python",
   "pygments_lexer": "ipython3",
   "version": "3.8.8"
  },
  "varInspector": {
   "cols": {
    "lenName": 16,
    "lenType": 16,
    "lenVar": 40
   },
   "kernels_config": {
    "python": {
     "delete_cmd_postfix": "",
     "delete_cmd_prefix": "del ",
     "library": "var_list.py",
     "varRefreshCmd": "print(var_dic_list())"
    },
    "r": {
     "delete_cmd_postfix": ") ",
     "delete_cmd_prefix": "rm(",
     "library": "var_list.r",
     "varRefreshCmd": "cat(var_dic_list()) "
    }
   },
   "types_to_exclude": [
    "module",
    "function",
    "builtin_function_or_method",
    "instance",
    "_Feature"
   ],
   "window_display": false
  }
 },
 "nbformat": 4,
 "nbformat_minor": 5
}
